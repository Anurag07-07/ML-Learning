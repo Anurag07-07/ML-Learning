{
 "cells": [
  {
   "cell_type": "markdown",
   "id": "6f482880",
   "metadata": {},
   "source": [
    "# What is a function?\n",
    "\n",
    "* A function is a block of code which only runs when it is **called**.\n",
    "* In Python a function is defined with the **'def' keyword**.\n",
    "* Functions can accept any number of **arguments** of any type.\n",
    "* Functions can optionally **return data** as well. This data may also be of any type. You can return more than one value as well.\n",
    "* Arguments can have **default values** as well.\n",
    "* While calling functions, the user may define arguments as **keyword pairs**."
   ]
  },
  {
   "cell_type": "code",
   "execution_count": 1,
   "id": "ae55f714",
   "metadata": {},
   "outputs": [
    {
     "name": "stdout",
     "output_type": "stream",
     "text": [
      "Boil water with tea leaves and sugar\n",
      "Add Milk\n",
      "Let it boil 4-5 times\n",
      "Boil some milk\n",
      "Pour it in cup with some coffee\n",
      "Stir\n"
     ]
    }
   ],
   "source": [
    "# Redundancy means repeating the things\n",
    "def tea():\n",
    "  print(\"Boil water with tea leaves and sugar\")\n",
    "  print(\"Add Milk\")\n",
    "  print(\"Let it boil 4-5 times\")\n",
    "\n",
    "def coffee():\n",
    "  print(\"Boil some milk\")\n",
    "  print(\"Pour it in cup with some coffee\")\n",
    "  print(\"Stir\")\n",
    "\n",
    "tea()\n",
    "coffee()"
   ]
  },
  {
   "cell_type": "code",
   "execution_count": 3,
   "id": "583a850b",
   "metadata": {},
   "outputs": [
    {
     "name": "stdout",
     "output_type": "stream",
     "text": [
      "Hello Anurag\n",
      "<class 'function'>\n"
     ]
    }
   ],
   "source": [
    "def hello(name):\n",
    "  print(\"Hello \"+name)\n",
    "\n",
    "hello(\"Anurag\")\n",
    "# Type of Function\n",
    "print(type(hello))"
   ]
  },
  {
   "cell_type": "code",
   "execution_count": 4,
   "id": "ddfc0513",
   "metadata": {},
   "outputs": [
    {
     "name": "stdout",
     "output_type": "stream",
     "text": [
      "Hero named Spiderman at age 20 was fighting all these villians -  ['Vulture', 'Venom', 'Electro']\n"
     ]
    }
   ],
   "source": [
    "def fight(name,age,villians):\n",
    "  print(\"Hero named\",name,\"at age\",age,\"was fighting all these villians - \",villians)\n",
    "fight(\"Spiderman\",20,[\"Vulture\",\"Venom\",\"Electro\"])"
   ]
  },
  {
   "cell_type": "code",
   "execution_count": null,
   "id": "6e84afe4",
   "metadata": {},
   "outputs": [
    {
     "name": "stdout",
     "output_type": "stream",
     "text": [
      "Hero named Spiderman at age 20 was fighting all these villians -  ['Thanos', 'Ultron']\n"
     ]
    }
   ],
   "source": [
    "# Default Parameters\n",
    "def fight(name,age,villians=[\"Thanos\",\"Ultron\"]):\n",
    "  print(\"Hero named\",name,\"at age\",age,\"was fighting all these villians - \",villians)\n",
    "fight(\"Spiderman\",20)"
   ]
  },
  {
   "cell_type": "markdown",
   "id": "c2b7b1ac",
   "metadata": {},
   "source": [
    "# Return data from a function"
   ]
  },
  {
   "cell_type": "code",
   "execution_count": 8,
   "id": "5e63ed81",
   "metadata": {},
   "outputs": [
    {
     "name": "stdout",
     "output_type": "stream",
     "text": [
      "152\n"
     ]
    }
   ],
   "source": [
    "# Write a function cube\n",
    "def cube(n):\n",
    "  return n**3\n",
    "\n",
    "value = cube(5)+cube(3)\n",
    "print(value)"
   ]
  },
  {
   "cell_type": "code",
   "execution_count": null,
   "id": "af5d4347",
   "metadata": {},
   "outputs": [
    {
     "name": "stdout",
     "output_type": "stream",
     "text": [
      "Anurag 20 Music\n"
     ]
    }
   ],
   "source": [
    "# Return as many value as you want\n",
    "def user():\n",
    "  return \"Anurag\",20,\"Music\"\n",
    "\n",
    "# Destructoring the data from function\n",
    "name,age,hobby = user()\n",
    "print(name,age,hobby)"
   ]
  },
  {
   "cell_type": "markdown",
   "id": "db0ca8c0",
   "metadata": {},
   "source": [
    "# Calling with keyword pair argument"
   ]
  },
  {
   "cell_type": "code",
   "execution_count": null,
   "id": "1735a0ab",
   "metadata": {},
   "outputs": [
    {
     "name": "stdout",
     "output_type": "stream",
     "text": [
      "Hero named Spiderman at age 20 was fighting all these villians -  ['Vulture', 'Venom', 'Electro']\n"
     ]
    }
   ],
   "source": [
    "def fight(age,name,villians):\n",
    "  print(\"Hero named\",name,\"at age\",age,\"was fighting all these villians - \",villians)\n",
    "fight(name = \"Spiderman\",age = 20,villians=[\"Vulture\",\"Venom\",\"Electro\"])"
   ]
  },
  {
   "cell_type": "code",
   "execution_count": null,
   "id": "36a7f014",
   "metadata": {},
   "outputs": [
    {
     "name": "stdout",
     "output_type": "stream",
     "text": [
      "\u001b[1;31mInit signature:\u001b[0m \u001b[0mrange\u001b[0m\u001b[1;33m(\u001b[0m\u001b[0mself\u001b[0m\u001b[1;33m,\u001b[0m \u001b[1;33m/\u001b[0m\u001b[1;33m,\u001b[0m \u001b[1;33m*\u001b[0m\u001b[0margs\u001b[0m\u001b[1;33m,\u001b[0m \u001b[1;33m**\u001b[0m\u001b[0mkwargs\u001b[0m\u001b[1;33m)\u001b[0m\u001b[1;33m\u001b[0m\u001b[1;33m\u001b[0m\u001b[0m\n",
      "\u001b[1;31mDocstring:\u001b[0m     \n",
      "range(stop) -> range object\n",
      "range(start, stop[, step]) -> range object\n",
      "\n",
      "Return an object that produces a sequence of integers from start (inclusive)\n",
      "to stop (exclusive) by step.  range(i, j) produces i, i+1, i+2, ..., j-1.\n",
      "start defaults to 0, and stop is omitted!  range(4) produces 0, 1, 2, 3.\n",
      "These are exactly the valid indices for a list of 4 elements.\n",
      "When step is given, it specifies the increment (or decrement).\n",
      "\u001b[1;31mType:\u001b[0m           type\n",
      "\u001b[1;31mSubclasses:\u001b[0m     "
     ]
    }
   ],
   "source": [
    "range? # to check the document "
   ]
  },
  {
   "cell_type": "markdown",
   "id": "30b2e1c6",
   "metadata": {},
   "source": [
    "# Write a program to print all prime from 1 to 100"
   ]
  },
  {
   "cell_type": "markdown",
   "id": "64205ecc",
   "metadata": {},
   "source": [
    "# Map"
   ]
  },
  {
   "cell_type": "code",
   "execution_count": null,
   "id": "c975fcb0",
   "metadata": {},
   "outputs": [
    {
     "name": "stdout",
     "output_type": "stream",
     "text": [
      "[1, 4, 9, 16, 25]\n"
     ]
    }
   ],
   "source": [
    "def square(n):\n",
    "  return n**2\n",
    "\n",
    "a = [1,2,3,4,5]\n",
    "\n",
    "b= list(map(square,a))\n",
    "print(b)"
   ]
  },
  {
   "cell_type": "markdown",
   "id": "f11fa175",
   "metadata": {},
   "source": [
    "# Lambda Function"
   ]
  },
  {
   "cell_type": "code",
   "execution_count": 20,
   "id": "f02bd70e",
   "metadata": {},
   "outputs": [
    {
     "name": "stdout",
     "output_type": "stream",
     "text": [
      "25\n",
      "50\n",
      "[25, 10]\n"
     ]
    }
   ],
   "source": [
    "# With Single Argument\n",
    "square = lambda a:a**2\n",
    "print(square(5))\n",
    "\n",
    "# With Multiple Argument\n",
    "multiply = lambda a,b:a*b\n",
    "print(multiply(5,10))\n",
    "\n",
    "# With Multiple Data return\n",
    "data = lambda b:[b**2,b+b]\n",
    "print(data(5))"
   ]
  },
  {
   "cell_type": "code",
   "execution_count": null,
   "id": "759e519d",
   "metadata": {},
   "outputs": [],
   "source": []
  }
 ],
 "metadata": {
  "kernelspec": {
   "display_name": "base",
   "language": "python",
   "name": "python3"
  },
  "language_info": {
   "codemirror_mode": {
    "name": "ipython",
    "version": 3
   },
   "file_extension": ".py",
   "mimetype": "text/x-python",
   "name": "python",
   "nbconvert_exporter": "python",
   "pygments_lexer": "ipython3",
   "version": "3.13.5"
  }
 },
 "nbformat": 4,
 "nbformat_minor": 5
}
