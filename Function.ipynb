{
 "cells": [
  {
   "cell_type": "markdown",
   "id": "6f482880",
   "metadata": {},
   "source": [
    "# What is a function?\n",
    "\n",
    "* A function is a block of code which only runs when it is **called**.\n",
    "* In Python a function is defined with the **'def' keyword**.\n",
    "* Functions can accept any number of **arguments** of any type.\n",
    "* Functions can optionally **return data** as well. This data may also be of any type. You can return more than one value as well.\n",
    "* Arguments can have **default values** as well.\n",
    "* While calling functions, the user may define arguments as **keyword pairs**."
   ]
  },
  {
   "cell_type": "code",
   "execution_count": 1,
   "id": "ae55f714",
   "metadata": {},
   "outputs": [
    {
     "name": "stdout",
     "output_type": "stream",
     "text": [
      "Boil water with tea leaves and sugar\n",
      "Add Milk\n",
      "Let it boil 4-5 times\n",
      "Boil some milk\n",
      "Pour it in cup with some coffee\n",
      "Stir\n"
     ]
    }
   ],
   "source": [
    "# Redundancy means repeating the things\n",
    "def tea():\n",
    "  print(\"Boil water with tea leaves and sugar\")\n",
    "  print(\"Add Milk\")\n",
    "  print(\"Let it boil 4-5 times\")\n",
    "\n",
    "def coffee():\n",
    "  print(\"Boil some milk\")\n",
    "  print(\"Pour it in cup with some coffee\")\n",
    "  print(\"Stir\")\n",
    "\n",
    "tea()\n",
    "coffee()"
   ]
  },
  {
   "cell_type": "code",
   "execution_count": 3,
   "id": "583a850b",
   "metadata": {},
   "outputs": [
    {
     "name": "stdout",
     "output_type": "stream",
     "text": [
      "Hello Anurag\n",
      "<class 'function'>\n"
     ]
    }
   ],
   "source": [
    "def hello(name):\n",
    "  print(\"Hello \"+name)\n",
    "\n",
    "hello(\"Anurag\")\n",
    "# Type of Function\n",
    "print(type(hello))"
   ]
  },
  {
   "cell_type": "code",
   "execution_count": 4,
   "id": "ddfc0513",
   "metadata": {},
   "outputs": [
    {
     "name": "stdout",
     "output_type": "stream",
     "text": [
      "Hero named Spiderman at age 20 was fighting all these villians -  ['Vulture', 'Venom', 'Electro']\n"
     ]
    }
   ],
   "source": [
    "def fight(name,age,villians):\n",
    "  print(\"Hero named\",name,\"at age\",age,\"was fighting all these villians - \",villians)\n",
    "fight(\"Spiderman\",20,[\"Vulture\",\"Venom\",\"Electro\"])"
   ]
  },
  {
   "cell_type": "code",
   "execution_count": null,
   "id": "6e84afe4",
   "metadata": {},
   "outputs": [
    {
     "name": "stdout",
     "output_type": "stream",
     "text": [
      "Hero named Spiderman at age 20 was fighting all these villians -  ['Thanos', 'Ultron']\n"
     ]
    }
   ],
   "source": [
    "# Default Parameters\n",
    "def fight(name,age,villians=[\"Thanos\",\"Ultron\"]):\n",
    "  print(\"Hero named\",name,\"at age\",age,\"was fighting all these villians - \",villians)\n",
    "fight(\"Spiderman\",20)"
   ]
  },
  {
   "cell_type": "markdown",
   "id": "c2b7b1ac",
   "metadata": {},
   "source": [
    "# Return data from a function"
   ]
  },
  {
   "cell_type": "code",
   "execution_count": 8,
   "id": "5e63ed81",
   "metadata": {},
   "outputs": [
    {
     "name": "stdout",
     "output_type": "stream",
     "text": [
      "152\n"
     ]
    }
   ],
   "source": [
    "# Write a function cube\n",
    "def cube(n):\n",
    "  return n**3\n",
    "\n",
    "value = cube(5)+cube(3)\n",
    "print(value)"
   ]
  },
  {
   "cell_type": "code",
   "execution_count": null,
   "id": "af5d4347",
   "metadata": {},
   "outputs": [
    {
     "name": "stdout",
     "output_type": "stream",
     "text": [
      "Anurag 20 Music\n"
     ]
    }
   ],
   "source": [
    "# Return as many value as you want\n",
    "def user():\n",
    "  return \"Anurag\",20,\"Music\"\n",
    "\n",
    "# Destructoring the data from function\n",
    "name,age,hobby = user()\n",
    "print(name,age,hobby)"
   ]
  },
  {
   "cell_type": "markdown",
   "id": "db0ca8c0",
   "metadata": {},
   "source": [
    "# Calling with keyword pair argument"
   ]
  },
  {
   "cell_type": "code",
   "execution_count": null,
   "id": "1735a0ab",
   "metadata": {},
   "outputs": [
    {
     "name": "stdout",
     "output_type": "stream",
     "text": [
      "Hero named Spiderman at age 20 was fighting all these villians -  ['Vulture', 'Venom', 'Electro']\n"
     ]
    }
   ],
   "source": [
    "def fight(age,name,villians):\n",
    "  print(\"Hero named\",name,\"at age\",age,\"was fighting all these villians - \",villians)\n",
    "fight(name = \"Spiderman\",age = 20,villians=[\"Vulture\",\"Venom\",\"Electro\"])"
   ]
  },
  {
   "cell_type": "code",
   "execution_count": null,
   "id": "36a7f014",
   "metadata": {},
   "outputs": [
    {
     "name": "stdout",
     "output_type": "stream",
     "text": [
      "\u001b[1;31mInit signature:\u001b[0m \u001b[0mrange\u001b[0m\u001b[1;33m(\u001b[0m\u001b[0mself\u001b[0m\u001b[1;33m,\u001b[0m \u001b[1;33m/\u001b[0m\u001b[1;33m,\u001b[0m \u001b[1;33m*\u001b[0m\u001b[0margs\u001b[0m\u001b[1;33m,\u001b[0m \u001b[1;33m**\u001b[0m\u001b[0mkwargs\u001b[0m\u001b[1;33m)\u001b[0m\u001b[1;33m\u001b[0m\u001b[1;33m\u001b[0m\u001b[0m\n",
      "\u001b[1;31mDocstring:\u001b[0m     \n",
      "range(stop) -> range object\n",
      "range(start, stop[, step]) -> range object\n",
      "\n",
      "Return an object that produces a sequence of integers from start (inclusive)\n",
      "to stop (exclusive) by step.  range(i, j) produces i, i+1, i+2, ..., j-1.\n",
      "start defaults to 0, and stop is omitted!  range(4) produces 0, 1, 2, 3.\n",
      "These are exactly the valid indices for a list of 4 elements.\n",
      "When step is given, it specifies the increment (or decrement).\n",
      "\u001b[1;31mType:\u001b[0m           type\n",
      "\u001b[1;31mSubclasses:\u001b[0m     "
     ]
    }
   ],
   "source": [
    "range? # to check the document "
   ]
  },
  {
   "cell_type": "markdown",
   "id": "30b2e1c6",
   "metadata": {},
   "source": [
    "# Write a program to print all prime from 1 to 100"
   ]
  },
  {
   "cell_type": "markdown",
   "id": "64205ecc",
   "metadata": {},
   "source": [
    "# Map"
   ]
  },
  {
   "cell_type": "code",
   "execution_count": null,
   "id": "c975fcb0",
   "metadata": {},
   "outputs": [
    {
     "name": "stdout",
     "output_type": "stream",
     "text": [
      "[1, 4, 9, 16, 25]\n"
     ]
    }
   ],
   "source": [
    "def square(n):\n",
    "  return n**2\n",
    "\n",
    "a = [1,2,3,4,5]\n",
    "\n",
    "b= list(map(square,a))\n",
    "print(b)"
   ]
  },
  {
   "cell_type": "markdown",
   "id": "f11fa175",
   "metadata": {},
   "source": [
    "# Lambda Function"
   ]
  },
  {
   "cell_type": "code",
   "execution_count": 20,
   "id": "f02bd70e",
   "metadata": {},
   "outputs": [
    {
     "name": "stdout",
     "output_type": "stream",
     "text": [
      "25\n",
      "50\n",
      "[25, 10]\n"
     ]
    }
   ],
   "source": [
    "# With Single Argument\n",
    "square = lambda a:a**2\n",
    "print(square(5))\n",
    "\n",
    "# With Multiple Argument\n",
    "multiply = lambda a,b:a*b\n",
    "print(multiply(5,10))\n",
    "\n",
    "# With Multiple Data return\n",
    "data = lambda b:[b**2,b+b]\n",
    "print(data(5))"
   ]
  },
  {
   "cell_type": "markdown",
   "id": "759e519d",
   "metadata": {},
   "source": [
    "# List Slicing\n",
    "* [start:end+1:step]"
   ]
  },
  {
   "cell_type": "code",
   "execution_count": 4,
   "id": "02bf1add",
   "metadata": {},
   "outputs": [
    {
     "name": "stdout",
     "output_type": "stream",
     "text": [
      "[3, 4]\n",
      "[1, 3, 5]\n",
      "[2, 4]\n"
     ]
    }
   ],
   "source": [
    "a = [1,2,3,4,5]\n",
    "print(a[2:4:1])\n",
    "# Pick Odd Numbers \n",
    "print(a[::2])\n",
    "# Pick Even Numbers \n",
    "print(a[1::2])"
   ]
  },
  {
   "cell_type": "code",
   "execution_count": 5,
   "id": "630342f8",
   "metadata": {},
   "outputs": [
    {
     "name": "stdout",
     "output_type": "stream",
     "text": [
      "[5, 4, 3, 2, 1]\n"
     ]
    }
   ],
   "source": [
    "# Reverse the List\n",
    "a = [1,2,3,4,5]\n",
    "\n",
    "#start\n",
    "#end\n",
    "#inc\n",
    "print(a[::-1])"
   ]
  },
  {
   "cell_type": "markdown",
   "id": "94ac3567",
   "metadata": {},
   "source": [
    "# List Comprehension"
   ]
  },
  {
   "cell_type": "code",
   "execution_count": 8,
   "id": "fdbef6b2",
   "metadata": {},
   "outputs": [
    {
     "name": "stdout",
     "output_type": "stream",
     "text": [
      "[1, 4, 9, 16, 25, 36, 49, 64, 81, 100, 121, 144, 169, 196, 225, 256, 289, 324, 361, 400, 441, 484, 529, 576, 625, 676, 729, 784, 841, 900, 961, 1024, 1089, 1156, 1225, 1296, 1369, 1444, 1521, 1600, 1681, 1764, 1849, 1936, 2025, 2116, 2209, 2304, 2401, 2500, 2601, 2704, 2809, 2916, 3025, 3136, 3249, 3364, 3481, 3600, 3721, 3844, 3969, 4096, 4225, 4356, 4489, 4624, 4761, 4900, 5041, 5184, 5329, 5476, 5625, 5776, 5929, 6084, 6241, 6400, 6561, 6724, 6889, 7056, 7225, 7396, 7569, 7744, 7921, 8100, 8281, 8464, 8649, 8836, 9025, 9216, 9409, 9604, 9801, 10000]\n"
     ]
    }
   ],
   "source": [
    "res = [i**2 for i in range(1,101)]\n",
    "print(res)"
   ]
  },
  {
   "cell_type": "code",
   "execution_count": 11,
   "id": "ead12367",
   "metadata": {},
   "outputs": [
    {
     "name": "stdout",
     "output_type": "stream",
     "text": [
      "[1, 4, 9, 16, 25, 36, 49, 64, 81, 100, 121, 144, 169, 196, 225, 256, 289, 324, 361, 400, 441, 484, 529, 576, 625, 676, 729, 784, 841, 900, 961, 1024, 1089, 1156, 1225, 1296, 1369, 1444, 1521, 1600, 1681, 1764, 1849, 1936, 2025, 2116, 2209, 2304, 2401, 2500, 2601, 2704, 2809, 2916, 3025, 3136, 3249, 3364, 3481, 3600, 3721, 3844, 3969, 4096, 4225, 4356, 4489, 4624, 4761, 4900, 5041, 5184, 5329, 5476, 5625, 5776, 5929, 6084, 6241, 6400, 6561, 6724, 6889, 7056, 7225, 7396, 7569, 7744, 7921, 8100, 8281, 8464, 8649, 8836, 9025, 9216, 9409, 9604, 9801, 10000]\n"
     ]
    }
   ],
   "source": [
    "# Using map\n",
    "sum = lambda a:a**2\n",
    "sq = list(map(sum,range(1,101)))\n",
    "print(sq)"
   ]
  },
  {
   "cell_type": "code",
   "execution_count": null,
   "id": "fee18162",
   "metadata": {},
   "outputs": [
    {
     "name": "stdout",
     "output_type": "stream",
     "text": [
      "[24, 46, 48, 6, 38, 10, 40]\n"
     ]
    }
   ],
   "source": [
    "#Filter out all Even number\n",
    "\n",
    "even = [27,24,21,46,48,6,25,38,10,40]\n",
    "b = [x for x in even  if x%2==0]\n",
    "print(b)"
   ]
  },
  {
   "cell_type": "markdown",
   "id": "563e86b4",
   "metadata": {},
   "source": [
    "# Tuples\n",
    "\n",
    "* **Tuples** are used to store multiple items in a single variable.\n",
    "* A tuple is a collection which is **ordered** and **immutable (unchangeable)**.\n",
    "* Tuples are written with **round brackets** `()`.\n",
    "* Tuple items are **indexed**, the first item has index `[0]`, the second item has index `[1]` etc.\n",
    "* Tuples can be created with tuple constructor - `tuple()`.\n",
    "* Tuples can also be created by simply writing multiple values with **comma separation**.\n",
    "* Tuples are processed **faster** than lists in Python."
   ]
  },
  {
   "cell_type": "code",
   "execution_count": 14,
   "id": "e8ecfa66",
   "metadata": {},
   "outputs": [
    {
     "name": "stdout",
     "output_type": "stream",
     "text": [
      "Asia\n"
     ]
    }
   ],
   "source": [
    "# Tuple is like readOnly List\n",
    "continents = (\"Asia\",\"Africa\",\"Australia\",\"Antartica\",\"North America\",\"South America\",\"Europe\")\n",
    "print(continents[0])"
   ]
  },
  {
   "cell_type": "code",
   "execution_count": 15,
   "id": "2282702b",
   "metadata": {},
   "outputs": [
    {
     "name": "stdout",
     "output_type": "stream",
     "text": [
      "<class 'tuple'>\n"
     ]
    }
   ],
   "source": [
    "print(type(continents))"
   ]
  },
  {
   "cell_type": "code",
   "execution_count": 18,
   "id": "4888a9b5",
   "metadata": {},
   "outputs": [
    {
     "name": "stdout",
     "output_type": "stream",
     "text": [
      "(1, 2, 3, 4, 5)\n",
      "[1, 2, 3, 4, 5]\n"
     ]
    }
   ],
   "source": [
    "# List to Tuple\n",
    "b = [1,2,3,4,5]\n",
    "a = tuple(b)\n",
    "print(a)\n",
    "#Tuple to List\n",
    "c = list(a)\n",
    "print(c)"
   ]
  },
  {
   "cell_type": "code",
   "execution_count": 20,
   "id": "b8787018",
   "metadata": {},
   "outputs": [
    {
     "name": "stdout",
     "output_type": "stream",
     "text": [
      "1 2 3 4\n"
     ]
    }
   ],
   "source": [
    "a,b,c,d = 1,2,3,4\n",
    "print(a,b,c,d)"
   ]
  },
  {
   "cell_type": "code",
   "execution_count": null,
   "id": "d10e0f7c",
   "metadata": {},
   "outputs": [
    {
     "name": "stdout",
     "output_type": "stream",
     "text": [
      "(7, 8, 9, [1, 2, 3, 10])\n"
     ]
    }
   ],
   "source": [
    "a = [1,2,3]\n",
    "t = (7,8,9,a) # Here a is reference thats why on change the value is added\n",
    "a.append(10)\n",
    "print(t)"
   ]
  },
  {
   "cell_type": "code",
   "execution_count": 22,
   "id": "34051470",
   "metadata": {},
   "outputs": [
    {
     "name": "stdout",
     "output_type": "stream",
     "text": [
      "(1, 2, 3, 5, 6, 7)\n"
     ]
    }
   ],
   "source": [
    "a = (1,2,3)\n",
    "b = (5,6,7)\n",
    "print(a+b)"
   ]
  },
  {
   "cell_type": "markdown",
   "id": "9a22c9bf",
   "metadata": {},
   "source": [
    "# Challenge - Check if Sorted "
   ]
  },
  {
   "cell_type": "code",
   "execution_count": 23,
   "id": "f4f8b8bd",
   "metadata": {},
   "outputs": [],
   "source": [
    "a = (1,4,10,12,14,18,20)"
   ]
  },
  {
   "cell_type": "code",
   "execution_count": 25,
   "id": "1cb64aea",
   "metadata": {},
   "outputs": [
    {
     "name": "stdout",
     "output_type": "stream",
     "text": [
      "Sorted\n"
     ]
    }
   ],
   "source": [
    "ans = \"Sorted\"\n",
    "for i in range(len(a)-1):\n",
    "  if a[i]<a[i+1]:continue\n",
    "  else: \n",
    "    ans = \"Not Sorted\"\n",
    "    break\n",
    "\n",
    "print(ans)"
   ]
  },
  {
   "cell_type": "markdown",
   "id": "95c618bd",
   "metadata": {},
   "source": [
    "# Write the Product of all the Arguments"
   ]
  },
  {
   "cell_type": "code",
   "execution_count": null,
   "id": "68baec1b",
   "metadata": {},
   "outputs": [
    {
     "data": {
      "text/plain": [
       "120"
      ]
     },
     "execution_count": 28,
     "metadata": {},
     "output_type": "execute_result"
    }
   ],
   "source": [
    "# *args * will recognized as spread operator \n",
    "def product(*args): \n",
    "  ans = 1\n",
    "  for p in args:\n",
    "   ans = ans*p\n",
    "  \n",
    "  return ans\n",
    "\n",
    "product(1,2,3,4,5)  \n"
   ]
  },
  {
   "cell_type": "code",
   "execution_count": null,
   "id": "21a203b7",
   "metadata": {},
   "outputs": [],
   "source": []
  }
 ],
 "metadata": {
  "kernelspec": {
   "display_name": "base",
   "language": "python",
   "name": "python3"
  },
  "language_info": {
   "codemirror_mode": {
    "name": "ipython",
    "version": 3
   },
   "file_extension": ".py",
   "mimetype": "text/x-python",
   "name": "python",
   "nbconvert_exporter": "python",
   "pygments_lexer": "ipython3",
   "version": "3.13.5"
  }
 },
 "nbformat": 4,
 "nbformat_minor": 5
}
