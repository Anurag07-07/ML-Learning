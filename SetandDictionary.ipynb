{
 "cells": [
  {
   "cell_type": "markdown",
   "id": "9142e5e5",
   "metadata": {},
   "source": [
    "## Sets\n",
    "\n",
    "A **Set** is an unordered collection of items with the following properties:\n",
    "\n",
    "* Every element is **unique** and **immutable**.\n",
    "* However, the set itself is **mutable** (you can add or remove items).\n",
    "\n",
    "---\n",
    "\n",
    "### Creating a Set\n",
    "\n",
    "There are two ways of creating a set:\n",
    "\n",
    "* Putting all the elements inside **curly braces** `{\"{\" and \"}\"}`.\n",
    "* Using the **`set()`** method (This is required for creating an empty set).\n",
    "\n",
    "---\n",
    "\n",
    "### Modifying and Querying Sets\n",
    "\n",
    "* **Adding elements** to a set: **`add()`**, **`update()`**\n",
    "* **Removing elements** from set: **`remove()`**, **`discard()`**\n",
    "\n",
    "---\n",
    "\n",
    "### Performance\n",
    "\n",
    "* Python sets allow fast **insertion**, **deletion** and **searching** due to their underlying hash-table implementation."
   ]
  },
  {
   "cell_type": "code",
   "execution_count": 2,
   "id": "9423b957",
   "metadata": {},
   "outputs": [
    {
     "name": "stdout",
     "output_type": "stream",
     "text": [
      "{0, 1, 2, 3, 4, 100, 'world', 'hello', 46, 50, 22, -9, -3, -2}\n"
     ]
    }
   ],
   "source": [
    "# Sets\n",
    "a = {1,4,0,2,3,100,50,22,46,-9,-3,-2,\"hello\",\"world\"}\n",
    "print(a)"
   ]
  },
  {
   "cell_type": "code",
   "execution_count": null,
   "id": "61d5c415",
   "metadata": {},
   "outputs": [
    {
     "name": "stdout",
     "output_type": "stream",
     "text": [
      "Present\n",
      "{0, 1, 2, 3, 4, '1', 'world', ('1', '2'), 'hello', 46, '2', 50, 22, -9, -3, -2}\n"
     ]
    }
   ],
   "source": [
    "#Searching in Set take O(1) time\n",
    "#Set Uses Hashing \n",
    "if 4 in a:\n",
    "  print(\"Present\")\n",
    "\n",
    "# add the element\n",
    "a.add(0)\n",
    "a.add((\"1\",\"2\"))\n",
    "a.update('1')\n",
    "# remove the element\n",
    "# a.remove(100)\n",
    "print(a)  "
   ]
  },
  {
   "cell_type": "markdown",
   "id": "51d63e01",
   "metadata": {},
   "source": [
    "# Print Unique movie"
   ]
  },
  {
   "cell_type": "code",
   "execution_count": 17,
   "id": "9ffaac9c",
   "metadata": {},
   "outputs": [],
   "source": [
    "friend1 = [\n",
    "    'How I Met Your Mother',\n",
    "    'Breaking Bad',\n",
    "    'The Wire'\n",
    "]\n",
    "\n",
    "friend2 = [\n",
    "    'Breaking Bad',\n",
    "    'Westworld',\n",
    "    'The Office'\n",
    "]\n",
    "\n",
    "friend3 = [\n",
    "    'Sopranos',\n",
    "    'Game of Thrones',\n",
    "    'Sherlock'\n",
    "]\n",
    "\n",
    "friend4 = [\n",
    "    'Friends',\n",
    "    'Sherlock',\n",
    "    'Daredevil'\n",
    "]"
   ]
  },
  {
   "cell_type": "code",
   "execution_count": 18,
   "id": "72b406fb",
   "metadata": {},
   "outputs": [
    {
     "name": "stdout",
     "output_type": "stream",
     "text": [
      "{'The Wire', 'Daredevil', 'Breaking Bad', 'The Office', 'Sopranos', 'Sherlock', 'Westworld', 'Friends', 'How I Met Your Mother', 'Game of Thrones'}\n"
     ]
    }
   ],
   "source": [
    "s = set()\n",
    "s.update(friend1,friend2,friend3,friend4)\n",
    "print(s)"
   ]
  },
  {
   "cell_type": "markdown",
   "id": "0e4fa239",
   "metadata": {},
   "source": [
    "## Dictionaries\n",
    "\n",
    "* They are used to store data in a **key-value pair** format.\n",
    "* The **keys** are always **unique** within a dictionary.\n",
    "* The **values** of the Python dictionary may or may not be unique.\n",
    "* The values within a dictionary can be of **any data type**. However, the **keys** must be **immutable**. Hence, the key can only be **strings, numbers, or tuples**.\n",
    "* Dictionaries can be created using the **`dict()` constructor** or with **curly brackets** - `{}`."
   ]
  },
  {
   "cell_type": "code",
   "execution_count": 21,
   "id": "18cb7ca7",
   "metadata": {},
   "outputs": [
    {
     "name": "stdout",
     "output_type": "stream",
     "text": [
      "Rupees\n",
      "{'India': 'Rupees', 'France': 'Euros', 'Japan': 'Yen', ' El Slvador ': {'Bitcoin', 'USD'}}\n"
     ]
    }
   ],
   "source": [
    "currency = {\n",
    "  \"India\":\"Rupees\",\n",
    "  \"US\":\"Dollers\",\n",
    "  \"France\":\"Euros\",\n",
    "  \"Japan\":\"Yen\"\n",
    "}\n",
    "# List is not become but tuple can\n",
    "del currency[\"US\"] # delete US\n",
    "currency[' El Slvador '] = set(['USD',\"Bitcoin\"])\n",
    "print(currency[\"India\"])\n",
    "print(currency)\n"
   ]
  },
  {
   "cell_type": "code",
   "execution_count": null,
   "id": "94378267",
   "metadata": {},
   "outputs": [
    {
     "data": {
      "text/plain": [
       "dict_values(['Rupees', 'Euros', 'Yen', {'Bitcoin', 'USD'}])"
      ]
     },
     "execution_count": 23,
     "metadata": {},
     "output_type": "execute_result"
    }
   ],
   "source": [
    "#Return Key or Value\n",
    "currency.keys()\n",
    "currency.values()"
   ]
  },
  {
   "cell_type": "markdown",
   "id": "bdc45097",
   "metadata": {},
   "source": [
    "# Palindrone"
   ]
  },
  {
   "cell_type": "code",
   "execution_count": null,
   "id": "bf72eefc",
   "metadata": {},
   "outputs": [],
   "source": [
    "# Time Complexity O(n)\n",
    "def solve(s):\n",
    "  freq= {}\n",
    "  # Iterate over a string\n",
    "  for char in s:\n",
    "    if char in freq:\n",
    "      freq[char]+=1\n",
    "    else:\n",
    "      freq[char]=1\n",
    "\n",
    "  #Iterate over freq and find the total number of odd Element\n",
    "  count = 0\n",
    "  for frequency in freq.values():\n",
    "      if frequency%2==1:\n",
    "        count+=1\n",
    "\n",
    "  if count<=1:\n",
    "    return 1\n",
    "  else:\n",
    "    return 0"
   ]
  },
  {
   "cell_type": "code",
   "execution_count": 39,
   "id": "c4885b74",
   "metadata": {},
   "outputs": [
    {
     "data": {
      "text/plain": [
       "0"
      ]
     },
     "execution_count": 39,
     "metadata": {},
     "output_type": "execute_result"
    }
   ],
   "source": [
    "solve(\"abcde\")"
   ]
  },
  {
   "cell_type": "code",
   "execution_count": 41,
   "id": "7b95e779",
   "metadata": {},
   "outputs": [
    {
     "name": "stdout",
     "output_type": "stream",
     "text": [
      "10\n"
     ]
    }
   ],
   "source": [
    "a = [[1,2,3,4,5],[6,7,8,9,10],[11,12,13,14,15]]\n",
    "print(a[1][4])"
   ]
  },
  {
   "cell_type": "code",
   "execution_count": 49,
   "id": "1ce300b9",
   "metadata": {},
   "outputs": [
    {
     "name": "stdout",
     "output_type": "stream",
     "text": [
      "1 2 3 4 5 \n",
      "6 7 8 9 10 \n",
      "11 12 13 14 15 \n"
     ]
    }
   ],
   "source": [
    "# Iteration in 2D Array\n",
    "for row in a:\n",
    "  for col in row:\n",
    "    print(col,end=\" \")\n",
    "  print()  "
   ]
  },
  {
   "cell_type": "code",
   "execution_count": 53,
   "id": "7465e6ac",
   "metadata": {},
   "outputs": [
    {
     "name": "stdout",
     "output_type": "stream",
     "text": [
      "2 2\n"
     ]
    }
   ],
   "source": [
    "# How to take user Input\n",
    "r,c = map(int,input().split())\n",
    "print(r,c)"
   ]
  },
  {
   "cell_type": "code",
   "execution_count": 54,
   "id": "29270f43",
   "metadata": {},
   "outputs": [
    {
     "name": "stdout",
     "output_type": "stream",
     "text": [
      "[[1, 2], [3, 4]]\n"
     ]
    }
   ],
   "source": [
    "a = []\n",
    "# read the input row by row\n",
    "for i in range(r):\n",
    "  row = list(map(int,input().split()))\n",
    "  a.append(row) \n",
    "\n",
    "print(a)"
   ]
  },
  {
   "cell_type": "code",
   "execution_count": null,
   "id": "69fd287e",
   "metadata": {},
   "outputs": [],
   "source": []
  },
  {
   "cell_type": "code",
   "execution_count": null,
   "id": "1191977f",
   "metadata": {},
   "outputs": [],
   "source": []
  }
 ],
 "metadata": {
  "kernelspec": {
   "display_name": "base",
   "language": "python",
   "name": "python3"
  },
  "language_info": {
   "codemirror_mode": {
    "name": "ipython",
    "version": 3
   },
   "file_extension": ".py",
   "mimetype": "text/x-python",
   "name": "python",
   "nbconvert_exporter": "python",
   "pygments_lexer": "ipython3",
   "version": "3.13.5"
  }
 },
 "nbformat": 4,
 "nbformat_minor": 5
}
