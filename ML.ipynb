{
 "cells": [
  {
   "cell_type": "markdown",
   "id": "14d483f5-92c4-4c9d-b26b-72ada3d14248",
   "metadata": {},
   "source": [
    "# Syntax and Semantics"
   ]
  },
  {
   "cell_type": "code",
   "execution_count": 1,
   "id": "fb59d9e1-903e-4a08-84a3-de068dd051fd",
   "metadata": {},
   "outputs": [
    {
     "name": "stdout",
     "output_type": "stream",
     "text": [
      "Anurag\n",
      "Raj\n"
     ]
    }
   ],
   "source": [
    "# Use ## for single line comment\n",
    "# Use ''' ''' for multiple line comment\n",
    "# Python is case Sensitive \n",
    "name = \"Anurag\"\n",
    "Name = \"Raj\"\n",
    "print(name)\n",
    "print(Name)"
   ]
  },
  {
   "cell_type": "code",
   "execution_count": 2,
   "id": "6ec998fd-151b-4ca4-81b7-0704eba4bcb9",
   "metadata": {},
   "outputs": [
    {
     "name": "stdout",
     "output_type": "stream",
     "text": [
      "21\n"
     ]
    }
   ],
   "source": [
    "#Indentation \n",
    "#Python uses indentation to define blocks of code.Consitent use of spaces (commanly 4) or a tab is required\n",
    "\n",
    "age = 21\n",
    "if age>20:\n",
    "    print(age)"
   ]
  },
  {
   "cell_type": "code",
   "execution_count": 4,
   "id": "b8d2cb3c-b387-42af-a644-1bf6f10082d6",
   "metadata": {},
   "outputs": [
    {
     "name": "stdout",
     "output_type": "stream",
     "text": [
      "15\n"
     ]
    }
   ],
   "source": [
    "# Line Continuation\n",
    "total = 1+2+3+\\ # Use \\ symbol\n",
    "4+5\n",
    "print(total)"
   ]
  },
  {
   "cell_type": "code",
   "execution_count": 5,
   "id": "395e2033-66b6-4a93-8e68-f7ee6f4d2b4d",
   "metadata": {},
   "outputs": [
    {
     "name": "stdout",
     "output_type": "stream",
     "text": [
      "50\n"
     ]
    }
   ],
   "source": [
    "#Multiple Statement in single line\n",
    "x=5;y=45;z=x+y\n",
    "print(z)"
   ]
  },
  {
   "cell_type": "code",
   "execution_count": 6,
   "id": "dcfbad90-a94c-4ef2-ac7d-bf94ed4323ca",
   "metadata": {},
   "outputs": [
    {
     "data": {
      "text/plain": [
       "int"
      ]
     },
     "execution_count": 6,
     "metadata": {},
     "output_type": "execute_result"
    }
   ],
   "source": [
    "# Type Inferencing\n",
    "age = 45\n",
    "type(age)"
   ]
  },
  {
   "cell_type": "code",
   "execution_count": 8,
   "id": "470a30bc-ae1e-4e06-9377-94fb3902e1aa",
   "metadata": {},
   "outputs": [
    {
     "name": "stdout",
     "output_type": "stream",
     "text": [
      "<class 'int'>\n",
      "<class 'str'>\n"
     ]
    }
   ],
   "source": [
    "variable = 10\n",
    "print(type(variable))\n",
    "variable = \"Anurag\"\n",
    "print(type(variable))"
   ]
  },
  {
   "cell_type": "code",
   "execution_count": 10,
   "id": "fb77938f-2163-49c2-9ffe-125692e9e16a",
   "metadata": {},
   "outputs": [
    {
     "name": "stdout",
     "output_type": "stream",
     "text": [
      "Correct Indentation\n",
      "This is print\n",
      "Outside the if block \n"
     ]
    }
   ],
   "source": [
    "#Code Example of Indentation\n",
    "if True:\n",
    "    print(\"Correct Indentation\")\n",
    "    if False:\n",
    "        print(\"This is print\")\n",
    "    print(\"This is print\")\n",
    "print(\"Outside the if block \")   \n",
    "        "
   ]
  },
  {
   "cell_type": "markdown",
   "id": "4c36fe87-4941-46a4-afcc-0948f844abb7",
   "metadata": {},
   "source": [
    "# Variables"
   ]
  },
  {
   "cell_type": "code",
   "execution_count": 11,
   "id": "c4fa473c-ccd4-4a6f-b5b0-d0b5e81b274d",
   "metadata": {},
   "outputs": [
    {
     "name": "stdout",
     "output_type": "stream",
     "text": [
      "100\n"
     ]
    }
   ],
   "source": [
    "a = 100\n",
    "print(a)"
   ]
  },
  {
   "cell_type": "code",
   "execution_count": null,
   "id": "7db3048a-5c97-44a9-960d-21ea4844ba19",
   "metadata": {},
   "outputs": [
    {
     "name": "stdout",
     "output_type": "stream",
     "text": [
      "age:  21\n",
      "Anurag\n",
      "True\n",
      "5.6\n"
     ]
    }
   ],
   "source": [
    "# Declaring and Assigning Variable\n",
    "# Python is dynamically Type Language\n",
    "age = 21\n",
    "height = 5.6\n",
    "name = \"Anurag\"\n",
    "is_student = True\n",
    "\n",
    "# Print The Values\n",
    "\n",
    "print(\"age: \",age)\n",
    "print(name)\n",
    "print(is_student)\n",
    "print(height)"
   ]
  },
  {
   "cell_type": "code",
   "execution_count": 4,
   "id": "5300764f-666d-414b-95df-7607e82ae7a2",
   "metadata": {},
   "outputs": [
    {
     "name": "stdout",
     "output_type": "stream",
     "text": [
      "<class 'int'>\n",
      "<class 'str'>\n",
      "<class 'int'>\n",
      "<class 'float'>\n"
     ]
    }
   ],
   "source": [
    "# Type Checking\n",
    "age = 25\n",
    "print(type(age))\n",
    "\n",
    "# Convert Number into String\n",
    "age_str = str(age)\n",
    "print(type(age_str))\n",
    "\n",
    "# Convert String into Number\n",
    "age_num = int(age_str)\n",
    "print(type(age_num))\n",
    "\n",
    "# Convert Number into Float\n",
    "age_float = float(age_num)\n",
    "print(type(age_float))"
   ]
  },
  {
   "cell_type": "code",
   "execution_count": 7,
   "id": "a027a64a",
   "metadata": {},
   "outputs": [
    {
     "name": "stdout",
     "output_type": "stream",
     "text": [
      "10 <class 'int'>\n",
      "Hello <class 'str'>\n"
     ]
    }
   ],
   "source": [
    "# Dynamic Typing\n",
    "# Python allows the type of a variable to change as the program executes \n",
    "var = 10\n",
    "print(var,type(var))\n",
    "var = \"Hello\"\n",
    "print(var,type(var))"
   ]
  },
  {
   "cell_type": "code",
   "execution_count": 4,
   "id": "5bfcfd0f",
   "metadata": {},
   "outputs": [
    {
     "name": "stdout",
     "output_type": "stream",
     "text": [
      "45\n"
     ]
    }
   ],
   "source": [
    "#Input\n",
    "age = input(\"Enter The Age\")\n",
    "print(age) "
   ]
  },
  {
   "cell_type": "code",
   "execution_count": null,
   "id": "dca9803a",
   "metadata": {},
   "outputs": [],
   "source": []
  }
 ],
 "metadata": {
  "kernelspec": {
   "display_name": "base",
   "language": "python",
   "name": "python3"
  },
  "language_info": {
   "codemirror_mode": {
    "name": "ipython",
    "version": 3
   },
   "file_extension": ".py",
   "mimetype": "text/x-python",
   "name": "python",
   "nbconvert_exporter": "python",
   "pygments_lexer": "ipython3",
   "version": "3.13.5"
  }
 },
 "nbformat": 4,
 "nbformat_minor": 5
}
