{
 "cells": [
  {
   "cell_type": "markdown",
   "id": "a93f33fc",
   "metadata": {},
   "source": [
    "# Basic Python "
   ]
  },
  {
   "cell_type": "code",
   "execution_count": 2,
   "id": "c13ab35d",
   "metadata": {},
   "outputs": [
    {
     "name": "stdout",
     "output_type": "stream",
     "text": [
      "Hello World!\n"
     ]
    }
   ],
   "source": [
    "#Python is interpreted Language\n",
    "#Interpreted Language are slower because it is far from machine\n",
    "#Python is platform independent\n",
    "print(\"Hello World!\")"
   ]
  },
  {
   "cell_type": "code",
   "execution_count": 3,
   "id": "e8abd21f",
   "metadata": {},
   "outputs": [
    {
     "name": "stdout",
     "output_type": "stream",
     "text": [
      "10\n"
     ]
    }
   ],
   "source": [
    "print(5+5)"
   ]
  },
  {
   "cell_type": "code",
   "execution_count": 4,
   "id": "a3e65dd7",
   "metadata": {},
   "outputs": [
    {
     "name": "stdout",
     "output_type": "stream",
     "text": [
      "5\n"
     ]
    }
   ],
   "source": [
    "print(10-6+5%2)"
   ]
  },
  {
   "cell_type": "code",
   "execution_count": 5,
   "id": "ca94205c",
   "metadata": {},
   "outputs": [
    {
     "name": "stdout",
     "output_type": "stream",
     "text": [
      "good evening\n"
     ]
    }
   ],
   "source": [
    "print('good evening')"
   ]
  },
  {
   "cell_type": "code",
   "execution_count": null,
   "id": "0caa5704",
   "metadata": {},
   "outputs": [
    {
     "data": {
      "text/plain": [
       "7"
      ]
     },
     "execution_count": 6,
     "metadata": {},
     "output_type": "execute_result"
    }
   ],
   "source": [
    "5+2  #This only work on notebook not when we submit the solution"
   ]
  },
  {
   "cell_type": "markdown",
   "id": "e110ba34",
   "metadata": {},
   "source": [
    "### Simple Interest"
   ]
  },
  {
   "cell_type": "code",
   "execution_count": 9,
   "id": "259dad56",
   "metadata": {},
   "outputs": [
    {
     "name": "stdout",
     "output_type": "stream",
     "text": [
      "The Simple Interest is  10.015\n"
     ]
    }
   ],
   "source": [
    "p = 100.15\n",
    "r = 5\n",
    "t = 2\n",
    "SI = (p*r*t)/100\n",
    "print(\"The Simple Interest is \",SI)\n"
   ]
  },
  {
   "cell_type": "markdown",
   "id": "f5a770de",
   "metadata": {},
   "source": [
    "# Input"
   ]
  },
  {
   "cell_type": "code",
   "execution_count": 13,
   "id": "a17cd9d4",
   "metadata": {},
   "outputs": [
    {
     "name": "stdout",
     "output_type": "stream",
     "text": [
      "Hello Anurag\n",
      "Hello Aniket\n",
      "Hello Aditya\n"
     ]
    }
   ],
   "source": [
    "# Take The name of the user and Print Hello With There Name\n",
    "name1 = input(\"Enter The Name\")\n",
    "name2 = input(\"Enter The Name\")\n",
    "name3 = input(\"Enter The Name\")\n",
    "print(\"Hello\",name1)\n",
    "print(\"Hello\",name2)\n",
    "print(\"Hello\",name3)\n",
    "# print(\"Hello\",input())  # This work but not recommanded"
   ]
  },
  {
   "cell_type": "markdown",
   "id": "f472a047",
   "metadata": {},
   "source": [
    "# Datatypes"
   ]
  },
  {
   "cell_type": "code",
   "execution_count": null,
   "id": "8a8fd227",
   "metadata": {},
   "outputs": [
    {
     "name": "stdout",
     "output_type": "stream",
     "text": [
      "Clark Kent's awesome\n"
     ]
    }
   ],
   "source": [
    "print('Clark Kent\\'s awesome') #Escape symbol esc the next character"
   ]
  },
  {
   "cell_type": "code",
   "execution_count": 22,
   "id": "37a74bfc",
   "metadata": {},
   "outputs": [
    {
     "name": "stdout",
     "output_type": "stream",
     "text": [
      "<class 'int'>\n",
      "<class 'float'>\n",
      "<class 'str'>\n",
      "<class 'str'>\n",
      "<class 'bool'>\n",
      "<class 'NoneType'>\n"
     ]
    }
   ],
   "source": [
    "a = 100\n",
    "print(type(a)) # variable a has integer data\n",
    "b = 125.221235 \n",
    "print(type(b)) # variable a has float data\n",
    "c = 'h' \n",
    "d = 'artificial Intelligence' \n",
    "e = True or False\n",
    "f = None\n",
    "print(type(c)) # variable a has string data, Char not exist in python \n",
    "print(type(d)) # variable a has string data\n",
    "print(type(e)) # variable a has bool data\n",
    "print(type(f)) # variable a has unknown data"
   ]
  },
  {
   "cell_type": "code",
   "execution_count": null,
   "id": "3ddfc6d5",
   "metadata": {},
   "outputs": [
    {
     "name": "stdout",
     "output_type": "stream",
     "text": [
      "Anurag\n"
     ]
    }
   ],
   "source": [
    "_name = \"Anurag\" #Starting with underscore is allowed\n",
    "print(_name)\n"
   ]
  },
  {
   "cell_type": "markdown",
   "id": "390bd2f1",
   "metadata": {},
   "source": [
    "# Typecasting"
   ]
  },
  {
   "cell_type": "code",
   "execution_count": 31,
   "id": "8b4d8290",
   "metadata": {},
   "outputs": [
    {
     "name": "stdout",
     "output_type": "stream",
     "text": [
      "45\n",
      "45.0\n",
      "455 <class 'int'>\n",
      "455 <class 'str'>\n",
      "45.2545512 <class 'str'>\n"
     ]
    }
   ],
   "source": [
    "# Convert float to Integer\n",
    "float_number = 45.23\n",
    "int_number = int(float_number) \n",
    "print(int_number)\n",
    "\n",
    "# Convert Integer to Float\n",
    "float_value =  float(int_number)\n",
    "print(float_value)\n",
    "\n",
    "#String to int\n",
    "string_value = 'qsdas' # This line give the error because this is not a valid string\n",
    "string_value = '455'\n",
    "int_value = int(string_value)\n",
    "print(int_value,type(int_value))\n",
    "\n",
    "#Int to String\n",
    "string_data = str(int_value)\n",
    "print(string_data,type(string_data))\n",
    "\n",
    "#Float to String\n",
    "string_data1 = str(45.2545512)\n",
    "print(string_data1,type(string_data1))\n"
   ]
  },
  {
   "cell_type": "code",
   "execution_count": null,
   "id": "e1285d05",
   "metadata": {},
   "outputs": [],
   "source": [
    "# Python doesn't have range on its numbers"
   ]
  },
  {
   "cell_type": "markdown",
   "id": "c5276448",
   "metadata": {},
   "source": [
    "# Operators"
   ]
  },
  {
   "cell_type": "code",
   "execution_count": 33,
   "id": "c7875f92",
   "metadata": {},
   "outputs": [
    {
     "name": "stdout",
     "output_type": "stream",
     "text": [
      "7\n",
      "3\n",
      "10\n",
      "2.5\n",
      "2\n",
      "25\n",
      "1\n",
      "2.23606797749979\n"
     ]
    }
   ],
   "source": [
    "a = 5+2 #Addition\n",
    "print(a)\n",
    "a = 5-2 #Subtract\n",
    "print(a)\n",
    "a = 5*2 #Multiply\n",
    "print(a)\n",
    "a = 5/2 #Divide (Give Float and integer)\n",
    "print(a)\n",
    "a = 5//2  #Divide (Give Integer part only )\n",
    "print(a)\n",
    "a = 5**2 #Power \n",
    "print(a)\n",
    "a = 5%2 #Modulus (Give Remainder)\n",
    "print(a)\n",
    "a = 5**(1/2) # Square root\n",
    "print(a) "
   ]
  },
  {
   "cell_type": "code",
   "execution_count": null,
   "id": "5121df32",
   "metadata": {},
   "outputs": [],
   "source": []
  }
 ],
 "metadata": {
  "kernelspec": {
   "display_name": "base",
   "language": "python",
   "name": "python3"
  },
  "language_info": {
   "codemirror_mode": {
    "name": "ipython",
    "version": 3
   },
   "file_extension": ".py",
   "mimetype": "text/x-python",
   "name": "python",
   "nbconvert_exporter": "python",
   "pygments_lexer": "ipython3",
   "version": "3.13.5"
  }
 },
 "nbformat": 4,
 "nbformat_minor": 5
}
