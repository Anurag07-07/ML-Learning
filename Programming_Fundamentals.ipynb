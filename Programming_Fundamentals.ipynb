{
 "cells": [
  {
   "cell_type": "markdown",
   "id": "2c8590aa",
   "metadata": {},
   "source": [
    "# Programming Fundamentals"
   ]
  },
  {
   "cell_type": "markdown",
   "id": "f9b6d054",
   "metadata": {},
   "source": [
    "# Print Statement  args,end,sep"
   ]
  },
  {
   "cell_type": "code",
   "execution_count": 4,
   "id": "f9a49214",
   "metadata": {},
   "outputs": [
    {
     "name": "stdout",
     "output_type": "stream",
     "text": [
      "Hello = Anurag@@@@Hello Aniket\n"
     ]
    }
   ],
   "source": [
    "print(\"Hello\",\"Anurag\",sep=\" = \",end=\"@@@@\")\n",
    "print(\"Hello\",\"Aniket\")"
   ]
  },
  {
   "cell_type": "markdown",
   "id": "d9055760",
   "metadata": {},
   "source": [
    "# Multiline Strings"
   ]
  },
  {
   "cell_type": "code",
   "execution_count": 5,
   "id": "f13c0f19",
   "metadata": {},
   "outputs": [
    {
     "name": "stdout",
     "output_type": "stream",
     "text": [
      "Hello Mate <class 'str'>\n"
     ]
    }
   ],
   "source": [
    "s1 = \"Hello Mate\"\n",
    "print(s1,type(s1))"
   ]
  },
  {
   "cell_type": "code",
   "execution_count": null,
   "id": "d16dbf64",
   "metadata": {},
   "outputs": [
    {
     "name": "stdout",
     "output_type": "stream",
     "text": [
      "\n",
      "Hello Anurag\n",
      "\n",
      "Good Morning\n",
      " <class 'str'>\n"
     ]
    }
   ],
   "source": [
    "# If we don't define in variable it can be consider as multiline Comment\n",
    "s2 = '''\n",
    "Hello Anurag\n",
    "\n",
    "Good Morning\n",
    "'''\n",
    "print(s2,type(s2))"
   ]
  },
  {
   "cell_type": "markdown",
   "id": "8222fcab",
   "metadata": {},
   "source": [
    "# Branching"
   ]
  },
  {
   "cell_type": "code",
   "execution_count": 15,
   "id": "e6808f5e",
   "metadata": {},
   "outputs": [
    {
     "name": "stdout",
     "output_type": "stream",
     "text": [
      "Mauj Masti\n"
     ]
    }
   ],
   "source": [
    "age = 5\n",
    "if age >= 65:\n",
    "  print(\"Retired fellow\")\n",
    "elif age>=10:\n",
    "  print(\"Corporate Fellow\")\n",
    "else:\n",
    "  print(\"Mauj Masti\")"
   ]
  },
  {
   "cell_type": "markdown",
   "id": "22924544",
   "metadata": {},
   "source": [
    "# and and or"
   ]
  },
  {
   "cell_type": "code",
   "execution_count": 16,
   "id": "099eb3fd",
   "metadata": {},
   "outputs": [
    {
     "name": "stdout",
     "output_type": "stream",
     "text": [
      "Allow\n"
     ]
    }
   ],
   "source": [
    "batch = \"python\"\n",
    "org = \"scaler\"\n",
    "if org==\"scaler\" and batch==\"python\":\n",
    "  print(\"Allow\")\n",
    "else:\n",
    "  print(\"Not Allowed\")"
   ]
  },
  {
   "cell_type": "code",
   "execution_count": 17,
   "id": "1433e4a5",
   "metadata": {},
   "outputs": [
    {
     "name": "stdout",
     "output_type": "stream",
     "text": [
      "Allowed\n"
     ]
    }
   ],
   "source": [
    "if org == \"scaler\" or org == \"interview_bit\":\n",
    "  print(\"Allowed\")\n",
    "else:\n",
    "  print(\"Ban\")"
   ]
  },
  {
   "cell_type": "code",
   "execution_count": 19,
   "id": "0aa6de33",
   "metadata": {},
   "outputs": [
    {
     "name": "stdout",
     "output_type": "stream",
     "text": [
      "1 2 3 4 5 6 7 8 9 10 "
     ]
    }
   ],
   "source": [
    "# Print Number from 1 to 100\n",
    "counter = 1\n",
    "while counter<=10:\n",
    "  print(counter,end=\" \")\n",
    "  counter = counter+1"
   ]
  },
  {
   "cell_type": "code",
   "execution_count": null,
   "id": "8f731341",
   "metadata": {},
   "outputs": [
    {
     "name": "stdout",
     "output_type": "stream",
     "text": [
      "12\n"
     ]
    }
   ],
   "source": [
    "a = 2\n",
    "a = a+5 #Old Way\n",
    "a+=5 #New Way\n",
    "print(a)"
   ]
  },
  {
   "cell_type": "code",
   "execution_count": 23,
   "id": "0bb609a7",
   "metadata": {},
   "outputs": [
    {
     "name": "stdout",
     "output_type": "stream",
     "text": [
      "* \n",
      "* * \n",
      "* * * \n",
      "* * * * \n",
      "* * * * * \n"
     ]
    }
   ],
   "source": [
    "#Stair pattern\n",
    "row = 1\n",
    "n = int(input(\"Enter The Row\"))\n",
    "while row<=n:\n",
    "  print(row*\"* \")\n",
    "  row = row+1"
   ]
  },
  {
   "cell_type": "markdown",
   "id": "d688fbaa",
   "metadata": {},
   "source": [
    "# Range"
   ]
  },
  {
   "cell_type": "markdown",
   "id": "accd80d9",
   "metadata": {},
   "source": [
    "### range(start,end,inc)\n",
    "### range(11) take start = 0 and end = 11 but  \n",
    "### goes till 10 only and increment to be 1 "
   ]
  },
  {
   "cell_type": "code",
   "execution_count": null,
   "id": "a4aed308",
   "metadata": {},
   "outputs": [
    {
     "name": "stdout",
     "output_type": "stream",
     "text": [
      "2 3 4 5 6 7 "
     ]
    }
   ],
   "source": [
    "for i in range(2,8):\n",
    "  print(i,end=\" \")"
   ]
  },
  {
   "cell_type": "code",
   "execution_count": null,
   "id": "c416558b",
   "metadata": {},
   "outputs": [
    {
     "name": "stdout",
     "output_type": "stream",
     "text": [
      "0 2 4 6 8 10 "
     ]
    }
   ],
   "source": [
    "# Print Even Numbers\n",
    "for i in range(0,11,2):\n",
    "  print(i,end=\" \")"
   ]
  },
  {
   "cell_type": "code",
   "execution_count": null,
   "id": "71c4f00e",
   "metadata": {},
   "outputs": [
    {
     "data": {
      "text/plain": [
       "[0, 1, 2, 3, 4, 5, 6, 7, 8, 9]"
      ]
     },
     "execution_count": 27,
     "metadata": {},
     "output_type": "execute_result"
    }
   ],
   "source": [
    "# print Range in list\n",
    "list(range(0,10))"
   ]
  },
  {
   "cell_type": "code",
   "execution_count": 31,
   "id": "825bf544",
   "metadata": {},
   "outputs": [
    {
     "name": "stdout",
     "output_type": "stream",
     "text": [
      "1 9 25 49 81 "
     ]
    }
   ],
   "source": [
    "# Print odd numbers from 1 to 10\n",
    "for i in range(1,10,2):\n",
    "  print(i*i,end=\" \") "
   ]
  },
  {
   "cell_type": "code",
   "execution_count": 34,
   "id": "cf27f2d3",
   "metadata": {},
   "outputs": [
    {
     "name": "stdout",
     "output_type": "stream",
     "text": [
      "729 343 125 27 1 "
     ]
    }
   ],
   "source": [
    "for i in range(9,0,-2):\n",
    "  print(i**3,end=\" \")"
   ]
  },
  {
   "cell_type": "code",
   "execution_count": 35,
   "id": "c8448f8c",
   "metadata": {},
   "outputs": [
    {
     "name": "stdout",
     "output_type": "stream",
     "text": [
      "H e l l o   W o r l d "
     ]
    }
   ],
   "source": [
    "# Iterartion on string\n",
    "for i in \"Hello World\":\n",
    "  print(i,end=\" \")"
   ]
  },
  {
   "cell_type": "code",
   "execution_count": 36,
   "id": "dc29c2a6",
   "metadata": {},
   "outputs": [
    {
     "name": "stdout",
     "output_type": "stream",
     "text": [
      "The Sum is  55\n"
     ]
    }
   ],
   "source": [
    "# Sum of Number\n",
    "sum = 0\n",
    "n = int(input(\"Enter The Range\"))\n",
    "for i in range(1,n+1,1):\n",
    "  sum+=i\n",
    "\n",
    "print(\"The Sum is \",sum)"
   ]
  },
  {
   "cell_type": "code",
   "execution_count": 41,
   "id": "03c2e678",
   "metadata": {},
   "outputs": [
    {
     "name": "stdout",
     "output_type": "stream",
     "text": [
      "The Sum of digit is 11\n"
     ]
    }
   ],
   "source": [
    "# Sum of Digits\n",
    "sum = 0\n",
    "n = int(input(\"Enter The Range\"))\n",
    "while n!=0:\n",
    "  last_digit = n%10\n",
    "  sum+=last_digit\n",
    "  n = n//10\n",
    "\n",
    "print(\"The Sum of digit is\",sum)"
   ]
  },
  {
   "cell_type": "markdown",
   "id": "8b551821",
   "metadata": {},
   "source": [
    "# 1 2 3 4\n",
    "# 1 2 3\n",
    "# 1 2\n",
    "# 1"
   ]
  },
  {
   "cell_type": "code",
   "execution_count": 62,
   "id": "c0bfc973",
   "metadata": {},
   "outputs": [
    {
     "name": "stdout",
     "output_type": "stream",
     "text": [
      "1 2 3 4 \n",
      "1 2 3 \n",
      "1 2 \n",
      "1 \n",
      "\n",
      "\n"
     ]
    }
   ],
   "source": [
    "n = int(input(\"Enter the Number\"))\n",
    "for row in range(1,row+1):\n",
    "  for col in range(1,n-row+1,1):\n",
    "    print(col,end=\" \")\n",
    "  print()  "
   ]
  },
  {
   "cell_type": "markdown",
   "id": "cf54972f",
   "metadata": {},
   "source": [
    "# 0001000\n",
    "# 0023200\n",
    "# 0345430\n",
    "# 4567654"
   ]
  },
  {
   "cell_type": "markdown",
   "id": "f7f0def2",
   "metadata": {},
   "source": [
    "### Zeros are N-i \n",
    "### Start is i and end is 2i-1 for incresing sequence\n",
    "### For Decresing Sequence start  from 2i-2 and end is i"
   ]
  },
  {
   "cell_type": "code",
   "execution_count": 55,
   "id": "9787177f",
   "metadata": {},
   "outputs": [
    {
     "name": "stdout",
     "output_type": "stream",
     "text": [
      "000010000\n",
      "000232000\n",
      "003454300\n",
      "045676540\n",
      "567898765\n"
     ]
    }
   ],
   "source": [
    "n = int(input(\"Enter The Row\"))\n",
    "for i in range(1,n+1):\n",
    "  print(\"0\"*(n-i),end=\"\")\n",
    "  for j in range(i,2*i):\n",
    "    print(j,end=\"\")\n",
    "  for k in range(2*i-2,i-1,-1):\n",
    "    print(k,end=\"\")\n",
    "  print(\"0\"*(n-i))"
   ]
  },
  {
   "cell_type": "code",
   "execution_count": null,
   "id": "57726332",
   "metadata": {},
   "outputs": [],
   "source": []
  }
 ],
 "metadata": {
  "kernelspec": {
   "display_name": "base",
   "language": "python",
   "name": "python3"
  },
  "language_info": {
   "codemirror_mode": {
    "name": "ipython",
    "version": 3
   },
   "file_extension": ".py",
   "mimetype": "text/x-python",
   "name": "python",
   "nbconvert_exporter": "python",
   "pygments_lexer": "ipython3",
   "version": "3.13.5"
  }
 },
 "nbformat": 4,
 "nbformat_minor": 5
}
